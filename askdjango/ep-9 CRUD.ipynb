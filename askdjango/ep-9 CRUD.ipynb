{
 "cells": [
  {
   "cell_type": "code",
   "execution_count": 1,
   "metadata": {},
   "outputs": [
    {
     "data": {
      "text/plain": [
       "blog.models.Post"
      ]
     },
     "execution_count": 1,
     "metadata": {},
     "output_type": "execute_result"
    }
   ],
   "source": [
    "Post"
   ]
  },
  {
   "cell_type": "code",
   "execution_count": 2,
   "metadata": {},
   "outputs": [
    {
     "data": {
      "text/plain": [
       "<django.db.models.manager.Manager at 0x1061e6048>"
      ]
     },
     "execution_count": 2,
     "metadata": {},
     "output_type": "execute_result"
    }
   ],
   "source": [
    "Post.objects"
   ]
  },
  {
   "cell_type": "code",
   "execution_count": 3,
   "metadata": {},
   "outputs": [
    {
     "data": {
      "text/plain": [
       "[<Post: >, <Post: 겉만 번지르르한 ‘IT 강국’>, <Post: 시진핑 춘제 앞두고 쓰촨부대 방문, 베이더우 위성 발사, 中 대만 지진 피해자에 도움의 손길>]"
      ]
     },
     "execution_count": 3,
     "metadata": {},
     "output_type": "execute_result"
    }
   ],
   "source": [
    "Post.objects.all()    # Post 모델 전체 데이터 조회"
   ]
  },
  {
   "cell_type": "code",
   "execution_count": 4,
   "metadata": {},
   "outputs": [
    {
     "data": {
      "text/plain": [
       "{'sql': 'SELECT \"blog_post\".\"id\", \"blog_post\".\"author\", \"blog_post\".\"title\", \"blog_post\".\"content\", \"blog_post\".\"tags\", \"blog_post\".\"lnglat\", \"blog_post\".\"status\", \"blog_post\".\"created_at\", \"blog_post\".\"updated_at\" FROM \"blog_post\" ORDER BY \"blog_post\".\"id\" DESC LIMIT 21',\n",
       " 'time': '0.001'}"
      ]
     },
     "execution_count": 4,
     "metadata": {},
     "output_type": "execute_result"
    }
   ],
   "source": [
    "from django.db import connection\n",
    "connection.queries[-1]"
   ]
  },
  {
   "cell_type": "code",
   "execution_count": 5,
   "metadata": {},
   "outputs": [
    {
     "data": {
      "text/plain": [
       "<Post: 테스트용>"
      ]
     },
     "execution_count": 5,
     "metadata": {},
     "output_type": "execute_result"
    }
   ],
   "source": [
    "# 데이터베이스 질의 가능\n",
    "Post.objects.create(author='이철우', title='테스트용', content='테스트', status ='d')"
   ]
  },
  {
   "cell_type": "code",
   "execution_count": 5,
   "metadata": {},
   "outputs": [
    {
     "name": "stdout",
     "output_type": "stream",
     "text": [
      "시진핑 춘제 앞두고 쓰촨부대 방문, 베이더우 위성 발사, 中 대만 지진 피해자에 도움의 손길\n",
      "겉만 번지르르한 ‘IT 강국’\n",
      "\n",
      "테스트용\n"
     ]
    }
   ],
   "source": [
    "for post in Post.objects.all():\n",
    "     print(post)    # str(post) -> post.__str__()"
   ]
  },
  {
   "cell_type": "code",
   "execution_count": 11,
   "metadata": {},
   "outputs": [
    {
     "name": "stdout",
     "output_type": "stream",
     "text": [
      "[<Post: 시진핑 춘제 앞두고 쓰촨부대 방문, 베이더우 위성 발사, 中 대만 지진 피해자에 도움의 손길>]\n",
      "[<Post: 시진핑 춘제 앞두고 쓰촨부대 방문, 베이더우 위성 발사, 中 대만 지진 피해자에 도움의 손길>, <Post: 겉만 번지르르한 ‘IT 강국’>]\n"
     ]
    }
   ],
   "source": [
    "queryset = Post.objects.all()\n",
    "print(queryset.filter(id=1))    # filter\n",
    "print(queryset.order_by('id')[0:2])            # slicing"
   ]
  },
  {
   "cell_type": "code",
   "execution_count": 13,
   "metadata": {},
   "outputs": [
    {
     "name": "stdout",
     "output_type": "stream",
     "text": [
      "시진핑 춘제 앞두고 쓰촨부대 방문, 베이더우 위성 발사, 中 대만 지진 피해자에 도움의 손길\n"
     ]
    }
   ],
   "source": [
    "model_instance = queryset.get(title__icontains=\"시진핑\")    # get을 이용 하나의 Data만 Fetch\n",
    "print(model_instance)"
   ]
  },
  {
   "cell_type": "code",
   "execution_count": 17,
   "metadata": {},
   "outputs": [
    {
     "name": "stdout",
     "output_type": "stream",
     "text": [
      "fisrt : 시진핑 춘제 앞두고 쓰촨부대 방문, 베이더우 위성 발사, 中 대만 지진 피해자에 도움의 손길 last : 테스트용\n"
     ]
    }
   ],
   "source": [
    "model_instance_f = queryset.first()\n",
    "model_instance_l = queryset.last()\n",
    "print('fisrt : {} last : {}'.format(model_instance_f, model_instance_l))"
   ]
  },
  {
   "cell_type": "code",
   "execution_count": null,
   "metadata": {},
   "outputs": [],
   "source": []
  }
 ],
 "metadata": {
  "kernelspec": {
   "display_name": "Django Shell-Plus",
   "language": "python",
   "name": "django_extensions"
  },
  "language_info": {
   "codemirror_mode": {
    "name": "ipython",
    "version": 3
   },
   "file_extension": ".py",
   "mimetype": "text/x-python",
   "name": "python",
   "nbconvert_exporter": "python",
   "pygments_lexer": "ipython3",
   "version": "3.5.1rc1"
  }
 },
 "nbformat": 4,
 "nbformat_minor": 2
}
